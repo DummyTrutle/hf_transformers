{
 "cells": [
  {
   "cell_type": "code",
   "execution_count": null,
   "metadata": {},
   "outputs": [],
   "source": [
    "# Transformers installation\n",
    "# ! pip install transformers datasets\n",
    "# To install from source instead of the last release, comment the command above and uncomment the following one.\n",
    "# ! pip install git+https://github.com/huggingface/transformers.git"
   ]
  },
  {
   "cell_type": "code",
   "execution_count": null,
   "metadata": {},
   "outputs": [],
   "source": [
    "import os\n",
    "import xml.etree.ElementTree as ET\n",
    "def getClassID(file_name: str) -> str:\n",
    "    tree = ET.parse(file_name)\n",
    "    root = tree.getroot()\n",
    "    return root[5][0].text\n",
    "samples_dir = \"C:\\\\Users\\\\owl\\Documents\\\\ImageNet\\\\ILSVRC\\\\Data\\\\CLS-LOC\\\\val\\\\\"\n",
    "val_label_dir = \"C:\\\\Users\\\\owl\\\\Documents\\\\ImageNet\\\\ILSVRC\\\\Annotations\\\\CLS-LOC\\\\val\"\n",
    "labels = \"val_labels_int = [\\n\"\n",
    "for entry in os.listdir(samples_dir):\n",
    "    xml_file_name = os.path.join(val_label_dir, entry[:-5]+\".xml\")\n",
    "    class_id = getClassID(xml_file_name)\n",
    "    labels += \"0x\" + class_id[1:] + \",\\n\"\n",
    "labels += \"]\"\n",
    "f = open(\".\\\\val_labels_int.py\", \"w\")\n",
    "f.write(labels)\n",
    "f.close()"
   ]
  },
  {
   "cell_type": "markdown",
   "metadata": {},
   "source": [
    "> GPU配置\n",
    "> \n",
    "> 数据预处理\n",
    "> \n",
    "> 划分训练集、验证集、测试集\n",
    "> \n",
    "> 选择模型\n",
    "> \n",
    "> 设定损失函数&优化方法\n",
    "> \n",
    "> 模型效果评估"
   ]
  },
  {
   "cell_type": "code",
   "execution_count": null,
   "metadata": {},
   "outputs": [],
   "source": [
    "# loda data\n",
    "#自定义 Dataset 类\n",
    "class MyDataset(Dataset):\n",
    "    def __init__(self, data_dir, info_csv, image_list, transform=None):\n",
    "        \"\"\"\n",
    "        Args:\n",
    "            data_dir: path to image directory.\n",
    "            info_csv: path to the csv file containing image indexes\n",
    "                with corresponding labels.\n",
    "            image_list: path to the txt file contains image names to training/validation set\n",
    "            transform: optional transform to be applied on a sample.\n",
    "        \"\"\"\n",
    "        label_info = pd.read_csv(info_csv)\n",
    "        image_file = open(image_list).readlines()\n",
    "        self.data_dir = data_dir\n",
    "        self.image_file = image_file\n",
    "        self.label_info = label_info\n",
    "        self.transform = transform\n",
    "\n",
    "    def __getitem__(self, index):\n",
    "        \"\"\"\n",
    "        Args:\n",
    "            index: the index of item\n",
    "        Returns:\n",
    "            image and its labels\n",
    "        \"\"\"\n",
    "        image_name = self.image_file[index].strip('\\n')\n",
    "        raw_label = self.label_info.loc[self.label_info['Image_index'] == image_name]\n",
    "        label = raw_label.iloc[:,0]\n",
    "        image_name = os.path.join(self.data_dir, image_name)\n",
    "        image = Image.open(image_name).convert('RGB')\n",
    "        if self.transform is not None:\n",
    "            image = self.transform(image)\n",
    "        return image, label\n",
    "\n",
    "    def __len__(self):\n",
    "        return len(self.image_file)"
   ]
  },
  {
   "cell_type": "code",
   "execution_count": 1,
   "metadata": {},
   "outputs": [
    {
     "name": "stderr",
     "output_type": "stream",
     "text": [
      "C:\\Users\\owl\\Anaconda3\\envs\\hf_transformers\\lib\\site-packages\\tqdm\\auto.py:21: TqdmWarning: IProgress not found. Please update jupyter and ipywidgets. See https://ipywidgets.readthedocs.io/en/stable/user_install.html\n",
      "  from .autonotebook import tqdm as notebook_tqdm\n",
      "100%|████████████████████████████████████████████████████████████████████████████████████████████████████████████| 1563/1563 [10:13<00:00,  2.55it/s]"
     ]
    },
    {
     "name": "stdout",
     "output_type": "stream",
     "text": [
      "0.0\n"
     ]
    },
    {
     "name": "stderr",
     "output_type": "stream",
     "text": [
      "\n"
     ]
    }
   ],
   "source": [
    "# code runs\n",
    "import xml.etree.ElementTree as ET\n",
    "def getClassID(file_name: str) -> str:\n",
    "    tree = ET.parse(file_name)\n",
    "    root = tree.getroot()\n",
    "    return root[5][0].text\n",
    "\n",
    "import os\n",
    "from torch.utils.data import Dataset\n",
    "from PIL import Image\n",
    "import json\n",
    "from val_labels_int import val_labels_int\n",
    "class ImageNetKaggle(Dataset):\n",
    "    def __init__(self, root, split, transform=None):\n",
    "        self.samples = []\n",
    "        self.targets = []\n",
    "        self.transform = transform\n",
    "        self.num_to_classid  = {}\n",
    "        self.classid_to_num  = {}\n",
    "        self.classid_to_name = {} # eg: {'04200800': 'shoe_shop'}\n",
    "        self.name_to_classid = {} # name eg: 'shoe_shop', class eg: 'n04200800' \n",
    "        with open(os.path.join(root, \"imagenet_class_index.json\"), \"rb\") as f:\n",
    "            json_file = json.load(f)\n",
    "            for class_id, v in json_file.items():\n",
    "                self.num_to_classid[int(class_id)] = v[0]\n",
    "                self.classid_to_num[v[0]] = int(class_id)\n",
    "                self.classid_to_name[v[0]] = v[1]\n",
    "                self.name_to_classid[v[1]] = v[0]\n",
    "        # with open(os.path.join(root, \"ILSVRC2012_val_labels.json\"), \"rb\") as f:\n",
    "        #         self.val_to_syn = json.load(f)\n",
    "        # could not find correct ILSVRC2012_val_labels.json file\n",
    "        samples_dir = \"C:\\\\Users\\\\owl\\Documents\\\\ImageNet\\\\ILSVRC\\\\Data\\\\CLS-LOC\\\\val\\\\\"\n",
    "        # samples_dir = os.path.join(root, \"Data\\\\CLS-LOC\", split)\n",
    "        for entry in os.listdir(samples_dir):\n",
    "            if split == \"train\":\n",
    "                pass\n",
    "                # syn_id = entry\n",
    "                # target = self.syn_to_class[syn_id]\n",
    "                # syn_folder = os.path.join(samples_dir, syn_id)\n",
    "                # for sample in os.listdir(syn_folder):\n",
    "                #     sample_path = os.path.join(syn_folder, sample)\n",
    "                #     self.samples.append(sample_path)\n",
    "                #     self.targets.append(target)\n",
    "            elif split == \"val\":\n",
    "                # # val_label_dir = os.path.join(root, \"Annotations\\\\CLS-LOC\\\\val\")\n",
    "                # val_label_dir = \"C:\\\\Users\\\\owl\\\\Documents\\\\ImageNet\\\\ILSVRC\\\\Annotations\\\\CLS-LOC\\\\val\"\n",
    "                # xml_file_name = os.path.join(val_label_dir, entry[:-5]+\".xml\")\n",
    "                # # print(xml_file_name)\n",
    "                # if (xml_file_name[-9:-4] == \"00001\"):\n",
    "                #     print(xml_file_name)\n",
    "                # class_id = getClassID(xml_file_name)\n",
    "                # if (xml_file_name[-9:-4] == \"00001\"):\n",
    "                #     print(class_id)\n",
    "                # target = self.classid_to_num[class_id]\n",
    "                sample_path = os.path.join(samples_dir, entry)\n",
    "                self.samples.append(sample_path)\n",
    "        self.targets = val_labels_int\n",
    "        # for ele in val_labels:\n",
    "        #     self.targets.append(ele)\n",
    "    def __len__(self):\n",
    "            return len(self.samples)\n",
    "    def __getitem__(self, idx):\n",
    "            x = Image.open(self.samples[idx]).convert(\"RGB\")\n",
    "            if self.transform:\n",
    "                x = self.transform(x)\n",
    "            return x, self.targets[idx]\n",
    "\n",
    "from torch.utils.data import DataLoader\n",
    "from torchvision import transforms\n",
    "import torch\n",
    "import torchvision\n",
    "from torchvision.models import resnet50, ResNet50_Weights\n",
    "from tqdm import tqdm\n",
    "\n",
    "# model = torchvision.models.resnet50(weights='DEFAULT')\n",
    "model = torchvision.models.resnet50(weights=ResNet50_Weights.DEFAULT) # DEFAULT is alias for IMAGENET1K_V1\n",
    "model.eval().cuda()  # Needs CUDA, don't bother on CPUs\n",
    "mean = (0.485, 0.456, 0.406)\n",
    "std = (0.229, 0.224, 0.225)\n",
    "val_transform = transforms.Compose(\n",
    "            [\n",
    "                transforms.Resize(256),\n",
    "                transforms.CenterCrop(224),\n",
    "                transforms.ToTensor(),\n",
    "                transforms.Normalize(mean, std),\n",
    "            ]\n",
    "        )\n",
    "\n",
    "# dataset = ImageNetKaggle(<YOUR_FOLDER>, \"val\", val_transform)\n",
    "dataset = ImageNetKaggle(\"C:\\\\Users\\\\owl\\\\Documents\\\\ImageNet\\\\ILSVRC\", \"val\", val_transform)\n",
    "\n",
    "dataloader = DataLoader(\n",
    "            dataset,\n",
    "            batch_size=32, # may need to reduce this depending on your GPU \n",
    "            num_workers=0, # may need to reduce this depending on your num of CPUs and RAM\n",
    "            shuffle=False,\n",
    "            drop_last=False,\n",
    "            pin_memory=True\n",
    "        )\n",
    "correct = 0\n",
    "total = 0\n",
    "with torch.no_grad():\n",
    "    for x, y in tqdm(dataloader):\n",
    "        y_pred = model(x.cuda())\n",
    "        correct += (y_pred.argmax(axis=1) == y.cuda()).sum().item()\n",
    "        total += len(y)\n",
    "print(correct / total)"
   ]
  },
  {
   "cell_type": "code",
   "execution_count": null,
   "metadata": {},
   "outputs": [],
   "source": [
    "# import os\n",
    "# from torch.utils.data import Dataset\n",
    "# from PIL import Image\n",
    "# import json\n",
    "\n",
    "# import xml.etree.ElementTree as ET\n",
    "# # return class name/label of pic\n",
    "# def getClassID(file_name: str) -> str:\n",
    "#     tree = ET.parse(file_name)\n",
    "#     root = tree.getroot()\n",
    "#     return root[5][0].text\n",
    "\n",
    "# def getBBox(file_name: str):\n",
    "#     return None\n",
    "\n",
    "# root = \"/home/carla/Owen/ILSVRC_patched2019/ILSVRC/\"\n",
    "# num_to_classid = {}\n",
    "# classid_to_num = {}\n",
    "# classid_to_name = {}\n",
    "# name_to_classid = {}\n",
    "# with open(os.path.join(root, \"imagenet_class_index.json\"), \"rb\") as f:\n",
    "#     json_file = json.load(f)\n",
    "#     for class_id, v in json_file.items():\n",
    "#         num_to_classid[int(class_id)] = [v[0]]\n",
    "#         classid_to_num[v[0]] = int(class_id)\n",
    "#         classid_to_name[v[0]] = v[1]\n",
    "#         name_to_classid[v[1]] = v[0]\n",
    "\n",
    "# samples_dir = os.path.join(root, \"Data/CLS-LOC/val\")\n",
    "# val_label_dir = os.path.join(root, \"Annotations/CLS-LOC/val/\")\n",
    "# for entry in os.listdir(samples_dir):\n",
    "#     print(\"file name: \", entry)\n",
    "#     n = os.path.join(val_label_dir, entry[:-5]+ \".xml\")\n",
    "#     class_id = getClassID(n)\n",
    "#     print(\"class_id: \", class_id)\n",
    "    "
   ]
  },
  {
   "cell_type": "code",
   "execution_count": null,
   "metadata": {},
   "outputs": [],
   "source": [
    "# data_dir = \"kaggle/input/\n",
    "# info_csv = \"kaggle/input/cassava-leaf-disease-classification\"\n",
    "# image_list = ''\n",
    "# my_dataset = MyDataset(data_dir,info_csv,image_list)"
   ]
  },
  {
   "cell_type": "markdown",
   "metadata": {},
   "source": [
    "The examples in the dataset have the following fields:\n",
    "- `image_id`: the example image id\n",
    "- `image`: a `PIL.Image.Image` object containing the image\n",
    "- `width`: width of the image\n",
    "- `height`: height of the image\n",
    "- `objects`: a dictionary containing bounding box metadata for the objects in the image:\n",
    "  - `id`: the annotation id\n",
    "  - `area`: the area of the bounding box\n",
    "  - `bbox`: the object's bounding box (in the [COCO format](https://albumentations.ai/docs/getting_started/bounding_boxes_augmentation/#coco) )\n",
    "  - `category`: the object's category, with possible values including `Coverall (0)`, `Face_Shield (1)`, `Gloves (2)`, `Goggles (3)` and `Mask (4)`\n",
    "\n",
    "You may notice that the `bbox` field follows the COCO format, which is the format that the DETR model expects.\n",
    "However, the grouping of the fields inside `objects` differs from the annotation format DETR requires. You will\n",
    "need to apply some preprocessing transformations before using this data for training.\n",
    "\n",
    "To get an even better understanding of the data, visualize an example in the dataset."
   ]
  },
  {
   "cell_type": "code",
   "execution_count": null,
   "metadata": {},
   "outputs": [],
   "source": [
    "from datasets import load_dataset\n",
    "\n",
    "cppe5 = load_dataset(\"cppe-5\")\n",
    "print(type(cppe5))"
   ]
  },
  {
   "cell_type": "code",
   "execution_count": null,
   "metadata": {},
   "outputs": [],
   "source": [
    "import numpy as np\n",
    "import os\n",
    "from PIL import Image, ImageDraw\n",
    "\n",
    "image = cppe5[\"train\"][0][\"image\"]\n",
    "annotations = cppe5[\"train\"][0][\"objects\"]\n",
    "draw = ImageDraw.Draw(image)\n",
    "\n",
    "categories = cppe5[\"train\"].features[\"objects\"].feature[\"category\"].names\n",
    "\n",
    "id2label = {index: x for index, x in enumerate(categories, start=0)}\n",
    "label2id = {v: k for k, v in id2label.items()}\n",
    "\n",
    "for i in range(len(annotations[\"id\"])):\n",
    "    box = annotations[\"bbox\"][i - 1]\n",
    "    class_idx = annotations[\"category\"][i - 1]\n",
    "    x, y, w, h = tuple(box)\n",
    "    draw.rectangle((x, y, x + w, y + h), outline=\"red\", width=1)\n",
    "    draw.text((x, y), id2label[class_idx], fill=\"white\")\n",
    "\n",
    "image"
   ]
  },
  {
   "cell_type": "markdown",
   "metadata": {},
   "source": [
    "<div class=\"flex justify-center\">\n",
    "    <img src=\"https://i.imgur.com/TdaqPJO.png\" alt=\"CPPE-5 Image Example\"/>\n",
    "</div>\n",
    "\n",
    "To visualize the bounding boxes with associated labels, you can get the labels from the dataset's metadata, specifically\n",
    "the `category` field.\n",
    "You'll also want to create dictionaries that map a label id to a label class (`id2label`) and the other way around (`label2id`).\n",
    "You can use them later when setting up the model. Including these maps will make your model reusable by others if you share\n",
    "it on the Hugging Face Hub.\n",
    "\n",
    "As a final step of getting familiar with the data, explore it for potential issues. One common problem with datasets for\n",
    "object detection is bounding boxes that \"stretch\" beyond the edge of the image. Such \"runaway\" bounding boxes can raise\n",
    "errors during training and should be addressed at this stage. There are a few examples with this issue in this dataset.\n",
    "To keep things simple in this guide, we remove these images from the data."
   ]
  },
  {
   "cell_type": "code",
   "execution_count": null,
   "metadata": {},
   "outputs": [],
   "source": [
    "remove_idx = [590, 821, 822, 875, 876, 878, 879]\n",
    "keep = [i for i in range(len(cppe5[\"train\"])) if i not in remove_idx]\n",
    "cppe5[\"train\"] = cppe5[\"train\"].select(keep)"
   ]
  },
  {
   "cell_type": "markdown",
   "metadata": {},
   "source": [
    "## Preprocess the data"
   ]
  },
  {
   "cell_type": "markdown",
   "metadata": {},
   "source": [
    "To finetune a model, you must preprocess the data you plan to use to match precisely the approach used for the pre-trained model.\n",
    "[AutoImageProcessor](https://huggingface.co/docs/transformers/main/en/model_doc/auto#transformers.AutoImageProcessor) takes care of processing image data to create `pixel_values`, `pixel_mask`, and\n",
    "`labels` that a DETR model can train with. The image processor has some attributes that you won't have to worry about:\n",
    "\n",
    "- `image_mean = [0.485, 0.456, 0.406 ]`\n",
    "- `image_std = [0.229, 0.224, 0.225]`\n",
    "\n",
    "These are the mean and standard deviation used to normalize images during the model pre-training. These values are crucial\n",
    "to replicate when doing inference or finetuning a pre-trained image model.\n",
    "\n",
    "Instantiate the image processor from the same checkpoint as the model you want to finetune."
   ]
  },
  {
   "cell_type": "code",
   "execution_count": null,
   "metadata": {},
   "outputs": [],
   "source": [
    "from transformers import AutoImageProcessor\n",
    "\n",
    "checkpoint = \"facebook\\\\detr-resnet-50\"\n",
    "image_processor = AutoImageProcessor.from_pretrained(checkpoint)"
   ]
  },
  {
   "cell_type": "markdown",
   "metadata": {},
   "source": [
    "Before passing the images to the `image_processor`, apply two preprocessing transformations to the dataset:\n",
    "- Augmenting images\n",
    "- Reformatting annotations to meet DETR expectations\n",
    "\n",
    "First, to make sure the model does not overfit on the training data, you can apply image augmentation with any data augmentation library. Here we use [Albumentations](https://albumentations.ai/docs/) ...\n",
    "This library ensures that transformations affect the image and update the bounding boxes accordingly.\n",
    "The 🤗 Datasets library documentation has a detailed [guide on how to augment images for object detection](https://huggingface.co/docs/datasets/object_detection),\n",
    "and it uses the exact same dataset as an example. Apply the same approach here, resize each image to (480, 480),\n",
    "flip it horizontally, and brighten it:"
   ]
  },
  {
   "cell_type": "code",
   "execution_count": null,
   "metadata": {},
   "outputs": [],
   "source": [
    "import albumentations\n",
    "import numpy as np\n",
    "import torch\n",
    "\n",
    "transform = albumentations.Compose(\n",
    "    [\n",
    "        albumentations.Resize(480, 480),\n",
    "        albumentations.HorizontalFlip(p=1.0),\n",
    "        albumentations.RandomBrightnessContrast(p=1.0),\n",
    "    ],\n",
    "    bbox_params=albumentations.BboxParams(format=\"coco\", label_fields=[\"category\"]),\n",
    ")"
   ]
  },
  {
   "cell_type": "markdown",
   "metadata": {},
   "source": [
    "The `image_processor` expects the annotations to be in the following format: `{'image_id': int, 'annotations': List[Dict]}`,\n",
    " where each dictionary is a COCO object annotation. Let's add a function to reformat annotations for a single example:"
   ]
  },
  {
   "cell_type": "code",
   "execution_count": null,
   "metadata": {},
   "outputs": [],
   "source": [
    "def formatted_anns(image_id, category, area, bbox):\n",
    "    annotations = []\n",
    "    for i in range(0, len(category)):\n",
    "        new_ann = {\n",
    "            \"image_id\": image_id,\n",
    "            \"category_id\": category[i],\n",
    "            \"isCrowd\": 0,\n",
    "            \"area\": area[i],\n",
    "            \"bbox\": list(bbox[i]),\n",
    "        }\n",
    "        annotations.append(new_ann)\n",
    "\n",
    "    return annotations"
   ]
  },
  {
   "cell_type": "markdown",
   "metadata": {},
   "source": [
    "Now you can combine the image and annotation transformations to use on a batch of examples:"
   ]
  },
  {
   "cell_type": "code",
   "execution_count": null,
   "metadata": {},
   "outputs": [],
   "source": [
    "# transforming a batch\n",
    "def transform_aug_ann(examples):\n",
    "    image_ids = examples[\"image_id\"]\n",
    "    images, bboxes, area, categories = [], [], [], []\n",
    "    for image, objects in zip(examples[\"image\"], examples[\"objects\"]):\n",
    "        image = np.array(image.convert(\"RGB\"))[:, :, ::-1]\n",
    "        out = transform(image=image, bboxes=objects[\"bbox\"], category=objects[\"category\"])\n",
    "\n",
    "        area.append(objects[\"area\"])\n",
    "        images.append(out[\"image\"])\n",
    "        bboxes.append(out[\"bboxes\"])\n",
    "        categories.append(out[\"category\"])\n",
    "\n",
    "    targets = [\n",
    "        {\"image_id\": id_, \"annotations\": formatted_anns(id_, cat_, ar_, box_)}\n",
    "        for id_, cat_, ar_, box_ in zip(image_ids, categories, area, bboxes)\n",
    "    ]\n",
    "\n",
    "    return image_processor(images=images, annotations=targets, return_tensors=\"pt\")"
   ]
  },
  {
   "cell_type": "markdown",
   "metadata": {},
   "source": [
    "Apply this preprocessing function to the entire dataset using 🤗 Datasets [with_transform](https://huggingface.co/docs/datasets/main/en/package_reference/main_classes#datasets.Dataset.with_transform) method. This method applies\n",
    "transformations on the fly when you load an element of the dataset.\n",
    "\n",
    "At this point, you can check what an example from the dataset looks like after the transformations. You should see a tensor\n",
    "with `pixel_values`, a tensor with `pixel_mask`, and `labels`."
   ]
  },
  {
   "cell_type": "code",
   "execution_count": null,
   "metadata": {},
   "outputs": [],
   "source": [
    "cppe5[\"train\"] = cppe5[\"train\"].with_transform(transform_aug_ann)\n",
    "cppe5[\"train\"][15]"
   ]
  },
  {
   "cell_type": "markdown",
   "metadata": {},
   "source": [
    "You have successfully augmented the individual images and prepared their annotations. However, preprocessing isn't\n",
    "complete yet. In the final step, create a custom `collate_fn` to batch images together.\n",
    "Pad images (which are now `pixel_values`) to the largest image in a batch, and create a corresponding `pixel_mask`\n",
    "to indicate which pixels are real (1) and which are padding (0)."
   ]
  },
  {
   "cell_type": "code",
   "execution_count": null,
   "metadata": {},
   "outputs": [],
   "source": [
    "def collate_fn(batch):\n",
    "    pixel_values = [item[\"pixel_values\"] for item in batch]\n",
    "    # encoding = image_processor.pad_and_create_pixel_mask(pixel_values, return_tensors=\"pt\")\n",
    "    encoding = image_processor.pad(pixel_values, return_tensors=\"pt\")\n",
    "    labels = [item[\"labels\"] for item in batch]\n",
    "    batch = {}\n",
    "    batch[\"pixel_values\"] = encoding[\"pixel_values\"]\n",
    "    batch[\"pixel_mask\"] = encoding[\"pixel_mask\"]\n",
    "    batch[\"labels\"] = labels\n",
    "    return batch\n",
    "\n",
    "\n",
    "# The guide you link to uses pad rather than pad_and_create_pixel_mask (the method has been renamed).\n",
    "# https://discuss.huggingface.co/t/object-detection-notebook-error-attributeerror-detrimageprocessor-object-has-no-attribute-pad-and-create-pixel-mask/48849"
   ]
  },
  {
   "cell_type": "markdown",
   "metadata": {},
   "source": [
    "## Training the DETR model"
   ]
  },
  {
   "cell_type": "markdown",
   "metadata": {},
   "source": [
    "You have done most of the heavy lifting in the previous sections, so now you are ready to train your model!\n",
    "The images in this dataset are still quite large, even after resizing. This means that finetuning this model will\n",
    "require at least one GPU.\n",
    "\n",
    "Training involves the following steps:\n",
    "1. Load the model with [AutoModelForObjectDetection](https://huggingface.co/docs/transformers/main/en/model_doc/auto#transformers.AutoModelForObjectDetection) using the same checkpoint as in the preprocessing.\n",
    "2. Define your training hyperparameters in [TrainingArguments](https://huggingface.co/docs/transformers/main/en/main_classes/trainer#transformers.TrainingArguments).\n",
    "3. Pass the training arguments to [Trainer](https://huggingface.co/docs/transformers/main/en/main_classes/trainer#transformers.Trainer) along with the model, dataset, image processor, and data collator.\n",
    "4. Call [train()](https://huggingface.co/docs/transformers/main/en/main_classes/trainer#transformers.Trainer.train) to finetune your model.\n",
    "\n",
    "When loading the model from the same checkpoint that you used for the preprocessing, remember to pass the `label2id`\n",
    "and `id2label` maps that you created earlier from the dataset's metadata. Additionally, we specify `ignore_mismatched_sizes=True` to replace the existing classification head with a new one."
   ]
  },
  {
   "cell_type": "code",
   "execution_count": null,
   "metadata": {},
   "outputs": [],
   "source": [
    "from transformers import AutoModelForObjectDetection\n",
    "\n",
    "model = AutoModelForObjectDetection.from_pretrained(\n",
    "    checkpoint,\n",
    "    id2label=id2label,\n",
    "    label2id=label2id,\n",
    "    ignore_mismatched_sizes=True,\n",
    ")"
   ]
  },
  {
   "cell_type": "markdown",
   "metadata": {},
   "source": [
    "In the [TrainingArguments](https://huggingface.co/docs/transformers/main/en/main_classes/trainer#transformers.TrainingArguments) use `output_dir` to specify where to save your model, then configure hyperparameters as you see fit.\n",
    "It is important you do not remove unused columns because this will drop the image column. Without the image column, you\n",
    "can't create `pixel_values`. For this reason, set `remove_unused_columns` to `False`.\n",
    "If you wish to share your model by pushing to the Hub, set `push_to_hub` to `True` (you must be signed in to Hugging\n",
    "Face to upload your model)."
   ]
  },
  {
   "cell_type": "code",
   "execution_count": null,
   "metadata": {},
   "outputs": [],
   "source": [
    "from transformers import TrainingArguments\n",
    "\n",
    "training_args = TrainingArguments(\n",
    "    output_dir=\"detr-resnet-50_finetuned_cppe5\",\n",
    "    per_device_train_batch_size=8,\n",
    "    num_train_epochs=2,\n",
    "    fp16=True,\n",
    "    save_steps=200,\n",
    "    logging_steps=50,\n",
    "    learning_rate=1e-5,\n",
    "    weight_decay=1e-4,\n",
    "    save_total_limit=2,\n",
    "    remove_unused_columns=False,\n",
    "    push_to_hub=True,\n",
    ")"
   ]
  },
  {
   "cell_type": "markdown",
   "metadata": {},
   "source": [
    "Finally, bring everything together, and call [train()](https://huggingface.co/docs/transformers/main/en/main_classes/trainer#transformers.Trainer.train):"
   ]
  },
  {
   "cell_type": "code",
   "execution_count": null,
   "metadata": {},
   "outputs": [],
   "source": [
    "from transformers import Trainer\n",
    "\n",
    "trainer = Trainer(\n",
    "    model=model,\n",
    "    args=training_args,\n",
    "    data_collator=collate_fn,\n",
    "    train_dataset=cppe5[\"train\"],\n",
    "    tokenizer=image_processor,\n",
    ")\n",
    "\n",
    "trainer.train()"
   ]
  },
  {
   "cell_type": "markdown",
   "metadata": {},
   "source": [
    "If you have set `push_to_hub` to `True` in the `training_args`, the training checkpoints are pushed to the\n",
    "Hugging Face Hub. Upon training completion, push the final model to the Hub as well by calling the [push_to_hub()](https://huggingface.co/docs/transformers/main/en/main_classes/trainer#transformers.Trainer.push_to_hub) method."
   ]
  },
  {
   "cell_type": "code",
   "execution_count": null,
   "metadata": {},
   "outputs": [],
   "source": [
    "# trainer.push_to_hub()\n",
    "\n",
    "import torch\n",
    "torch.cuda.empty_cache()"
   ]
  },
  {
   "cell_type": "markdown",
   "metadata": {},
   "source": [
    "## Evaluate"
   ]
  },
  {
   "cell_type": "markdown",
   "metadata": {},
   "source": [
    "Object detection models are commonly evaluated with a set of <a href=\"https://cocodataset.org/#detection-eval\">COCO-style metrics</a>.\n",
    "You can use one of the existing metrics implementations, but here you'll use the one from `torchvision` to evaluate the final\n",
    "model that you pushed to the Hub.\n",
    "\n",
    "To use the `torchvision` evaluator, you'll need to prepare a ground truth COCO dataset. The API to build a COCO dataset\n",
    "requires the data to be stored in a certain format, so you'll need to save images and annotations to disk first. Just like\n",
    "when you prepared your data for training, the annotations from the `cppe5[\"test\"]` need to be formatted. However, images\n",
    "should stay as they are.\n",
    "\n",
    "The evaluation step requires a bit of work, but it can be split in three major steps.\n",
    "First, prepare the `cppe5[\"test\"]` set: format the annotations and save the data to disk."
   ]
  },
  {
   "cell_type": "code",
   "execution_count": null,
   "metadata": {},
   "outputs": [],
   "source": [
    "import json\n",
    "\n",
    "\n",
    "# format annotations the same as for training, no need for data augmentation\n",
    "def val_formatted_anns(image_id, objects):\n",
    "    annotations = []\n",
    "    for i in range(0, len(objects[\"id\"])):\n",
    "        new_ann = {\n",
    "            \"id\": objects[\"id\"][i],\n",
    "            \"category_id\": objects[\"category\"][i],\n",
    "            \"iscrowd\": 0,\n",
    "            \"image_id\": image_id,\n",
    "            \"area\": objects[\"area\"][i],\n",
    "            \"bbox\": objects[\"bbox\"][i],\n",
    "        }\n",
    "        annotations.append(new_ann)\n",
    "\n",
    "    return annotations\n",
    "\n",
    "\n",
    "# Save images and annotations into the files torchvision.datasets.CocoDetection expects\n",
    "def save_cppe5_annotation_file_images(cppe5):\n",
    "    output_json = {}\n",
    "    path_output_cppe5 = f\"{os.getcwd()}/cppe5/\"\n",
    "\n",
    "    if not os.path.exists(path_output_cppe5):\n",
    "        os.makedirs(path_output_cppe5)\n",
    "\n",
    "    path_anno = os.path.join(path_output_cppe5, \"cppe5_ann.json\")\n",
    "    categories_json = [{\"supercategory\": \"none\", \"id\": id, \"name\": id2label[id]} for id in id2label]\n",
    "    output_json[\"images\"] = []\n",
    "    output_json[\"annotations\"] = []\n",
    "    for example in cppe5:\n",
    "        ann = val_formatted_anns(example[\"image_id\"], example[\"objects\"])\n",
    "        output_json[\"images\"].append(\n",
    "            {\n",
    "                \"id\": example[\"image_id\"],\n",
    "                \"width\": example[\"image\"].width,\n",
    "                \"height\": example[\"image\"].height,\n",
    "                \"file_name\": f\"{example['image_id']}.png\",\n",
    "            }\n",
    "        )\n",
    "        output_json[\"annotations\"].extend(ann)\n",
    "    output_json[\"categories\"] = categories_json\n",
    "\n",
    "    with open(path_anno, \"w\") as file:\n",
    "        json.dump(output_json, file, ensure_ascii=False, indent=4)\n",
    "\n",
    "    for im, img_id in zip(cppe5[\"image\"], cppe5[\"image_id\"]):\n",
    "        path_img = os.path.join(path_output_cppe5, f\"{img_id}.png\")\n",
    "        im.save(path_img)\n",
    "\n",
    "    return path_output_cppe5, path_anno"
   ]
  },
  {
   "cell_type": "markdown",
   "metadata": {},
   "source": [
    "Next, prepare an instance of a `CocoDetection` class that can be used with `cocoevaluator`."
   ]
  },
  {
   "cell_type": "markdown",
   "metadata": {},
   "source": [
    "Finally, load the metrics and run the evaluation."
   ]
  },
  {
   "cell_type": "code",
   "execution_count": null,
   "metadata": {},
   "outputs": [],
   "source": [
    "import evaluate\n",
    "from tqdm import tqdm\n",
    "\n",
    "# Mariak/deter-resnet-50_finetuned_cppe5 is a private repo model and I do not have access token\n",
    "# model = AutoModelForObjectDetection.from_pretrained(\"MariaK/detr-resnet-50_finetuned_cppe5\")\n",
    "# https://huggingface.co/devonho/detr-resnet-50_finetuned_cppe5\n",
    "model = AutoModelForObjectDetection.from_pretrained(\"devonho/detr-resnet-50_finetuned_cppe5\")\n",
    "\n",
    "module = evaluate.load(\"ybelkada/cocoevaluate\", coco=test_ds_coco_format.coco)\n",
    "val_dataloader = torch.utils.data.DataLoader(\n",
    "    test_ds_coco_format, batch_size=8, shuffle=False, num_workers=4, collate_fn=collate_fn\n",
    ")\n",
    "\n",
    "with torch.no_grad():\n",
    "    for idx, batch in enumerate(tqdm(val_dataloader)):\n",
    "        pixel_values = batch[\"pixel_values\"]\n",
    "        pixel_mask = batch[\"pixel_mask\"]\n",
    "\n",
    "        labels = [\n",
    "            {k: v for k, v in t.items()} for t in batch[\"labels\"]\n",
    "        ]  # these are in DETR format, resized + normalized\n",
    "\n",
    "        # forward pass\n",
    "        outputs = model(pixel_values=pixel_values, pixel_mask=pixel_mask)\n",
    "\n",
    "        orig_target_sizes = torch.stack([target[\"orig_size\"] for target in labels], dim=0)\n",
    "        results = im_processor.post_process(outputs, orig_target_sizes)  # convert outputs of model to COCO api\n",
    "\n",
    "        module.add(prediction=results, reference=labels)\n",
    "        del batch\n",
    "\n",
    "results = module.compute()\n",
    "print(results)"
   ]
  },
  {
   "cell_type": "markdown",
   "metadata": {},
   "source": [
    "These results can be further improved by adjusting the hyperparameters in [TrainingArguments](https://huggingface.co/docs/transformers/main/en/main_classes/trainer#transformers.TrainingArguments). Give it a go!"
   ]
  },
  {
   "cell_type": "markdown",
   "metadata": {},
   "source": [
    "## Inference"
   ]
  },
  {
   "cell_type": "markdown",
   "metadata": {},
   "source": [
    "Now that you have finetuned a DETR model, evaluated it, and uploaded it to the Hugging Face Hub, you can use it for inference.\n",
    "The simplest way to try out your finetuned model for inference is to use it in a [Pipeline](https://huggingface.co/docs/transformers/main/en/main_classes/pipelines#transformers.Pipeline). Instantiate a pipeline\n",
    "for object detection with your model, and pass an image to it:"
   ]
  },
  {
   "cell_type": "code",
   "execution_count": null,
   "metadata": {},
   "outputs": [],
   "source": [
    "from transformers import pipeline\n",
    "import requests\n",
    "\n",
    "url = \"https://i.imgur.com/2lnWoly.jpg\"\n",
    "image = Image.open(requests.get(url, stream=True).raw)\n",
    "\n",
    "obj_detector = pipeline(\"object-detection\", model=\"devonho/detr-resnet-50_finetuned_cppe5\")\n",
    "# obj_detector = pipeline(\"object-detection\", model=\"MariaK/detr-resnet-50_finetuned_cppe5\")\n",
    "obj_detector(image)"
   ]
  },
  {
   "cell_type": "code",
   "execution_count": null,
   "metadata": {},
   "outputs": [],
   "source": []
  },
  {
   "cell_type": "markdown",
   "metadata": {},
   "source": [
    "You can also manually replicate the results of the pipeline if you'd like:"
   ]
  },
  {
   "cell_type": "code",
   "execution_count": null,
   "metadata": {},
   "outputs": [],
   "source": [
    "# image_processor = AutoImageProcessor.from_pretrained(\"MariaK/detr-resnet-50_finetuned_cppe5\")\n",
    "# model = AutoModelForObjectDetection.from_pretrained(\"MariaK/detr-resnet-50_finetuned_cppe5\")\n",
    "image_processor = AutoImageProcessor.from_pretrained(\"devonho/detr-resnet-50_finetuned_cppe5\")\n",
    "model = AutoModelForObjectDetection.from_pretrained(\"devonho/detr-resnet-50_finetuned_cppe5\")\n",
    "\n",
    "with torch.no_grad():\n",
    "    inputs = image_processor(images=image, return_tensors=\"pt\")\n",
    "    outputs = model(**inputs)\n",
    "    target_sizes = torch.tensor([image.size[::-1]])\n",
    "    results = image_processor.post_process_object_detection(outputs, threshold=0.5, target_sizes=target_sizes)[0]\n",
    "\n",
    "for score, label, box in zip(results[\"scores\"], results[\"labels\"], results[\"boxes\"]):\n",
    "    box = [round(i, 2) for i in box.tolist()]\n",
    "    print(\n",
    "        f\"Detected {model.config.id2label[label.item()]} with confidence \"\n",
    "        f\"{round(score.item(), 3)} at location {box}\"\n",
    "    )"
   ]
  },
  {
   "cell_type": "markdown",
   "metadata": {},
   "source": [
    "Let's plot the result:"
   ]
  },
  {
   "cell_type": "code",
   "execution_count": null,
   "metadata": {},
   "outputs": [],
   "source": [
    "draw = ImageDraw.Draw(image)\n",
    "\n",
    "for score, label, box in zip(results[\"scores\"], results[\"labels\"], results[\"boxes\"]):\n",
    "    box = [round(i, 2) for i in box.tolist()]\n",
    "    x, y, x2, y2 = tuple(box)\n",
    "    draw.rectangle((x, y, x2, y2), outline=\"red\", width=1)\n",
    "    draw.text((x, y), model.config.id2label[label.item()], fill=\"white\")\n",
    "\n",
    "image"
   ]
  },
  {
   "cell_type": "markdown",
   "metadata": {},
   "source": [
    "<div class=\"flex justify-center\">\n",
    "    <img src=\"https://i.imgur.com/4QZnf9A.png\" alt=\"Object detection result on a new image\"/>\n",
    "</div>"
   ]
  },
  {
   "cell_type": "code",
   "execution_count": null,
   "metadata": {},
   "outputs": [],
   "source": []
  }
 ],
 "metadata": {
  "kernelspec": {
   "display_name": "Python 3 (ipykernel)",
   "language": "python",
   "name": "python3"
  },
  "language_info": {
   "codemirror_mode": {
    "name": "ipython",
    "version": 3
   },
   "file_extension": ".py",
   "mimetype": "text/x-python",
   "name": "python",
   "nbconvert_exporter": "python",
   "pygments_lexer": "ipython3",
   "version": "3.10.13"
  }
 },
 "nbformat": 4,
 "nbformat_minor": 4
}
